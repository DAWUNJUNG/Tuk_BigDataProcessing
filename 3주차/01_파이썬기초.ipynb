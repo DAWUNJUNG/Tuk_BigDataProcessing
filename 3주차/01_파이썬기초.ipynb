{
 "cells": [
  {
   "cell_type": "markdown",
   "metadata": {
    "id": "X3dBIDyofMpX"
   },
   "source": [
    "# 파이선 기초\n",
    "\n",
    "- 기본 변수 (단일 데이터 저장)\n",
    " - 정수(int), 부동소수(float), 문자열(strings), 불리언(bool)  \n",
    "- 데이터 묶음 (복수 데이터 저장)\n",
    " - 리스트(list), 배열(array), 튜풀(tuple), 사전(dictionary) \n",
    "- 프로그램 흐름\n",
    " - if, else, for, while"
   ]
  },
  {
   "cell_type": "markdown",
   "metadata": {
    "id": "9_5XCyvNNIwg"
   },
   "source": [
    "# 기본 변수\n",
    "## 숫자\n",
    "- 단일 숫자를 담는 변수\n",
    "- 정수(int), 부동소수(float)"
   ]
  },
  {
   "cell_type": "markdown",
   "metadata": {
    "id": "YpWdarn3NIwg"
   },
   "source": [
    "### 변수에 값을 배정(assign)\n",
    "- \"=\"를 사용"
   ]
  },
  {
   "cell_type": "code",
   "execution_count": 1,
   "metadata": {
    "id": "QosL1F6CfMpY",
    "outputId": "265957ec-434a-4637-f4cf-56336667a62e"
   },
   "outputs": [
    {
     "name": "stdout",
     "output_type": "stream",
     "text": [
      "7\n"
     ]
    }
   ],
   "source": [
    "x = 7\n",
    "print(x)"
   ]
  },
  {
   "cell_type": "code",
   "execution_count": null,
   "metadata": {
    "outputId": "265957ec-434a-4637-f4cf-56336667a62e",
    "scrolled": true,
    "id": "QL1UsSxQNIwh"
   },
   "outputs": [
    {
     "name": "stdout",
     "output_type": "stream",
     "text": [
      "7.5\n"
     ]
    }
   ],
   "source": [
    "y = 0.5\n",
    "print(x+y)"
   ]
  },
  {
   "cell_type": "code",
   "execution_count": null,
   "metadata": {
    "id": "VTIqoTRSfMpm",
    "outputId": "74472922-5f3d-465d-d640-6f2853494804"
   },
   "outputs": [
    {
     "data": {
      "text/plain": [
       "int"
      ]
     },
     "execution_count": 3,
     "metadata": {},
     "output_type": "execute_result"
    }
   ],
   "source": [
    "# 변수의 종류(타입) 보기\n",
    "type(x)"
   ]
  },
  {
   "cell_type": "code",
   "execution_count": null,
   "metadata": {
    "id": "y49UzHGCNIwj",
    "outputId": "a09c07ae-139a-4974-f466-b7ebcbc7683c"
   },
   "outputs": [
    {
     "data": {
      "text/plain": [
       "float"
      ]
     },
     "execution_count": 4,
     "metadata": {},
     "output_type": "execute_result"
    }
   ],
   "source": [
    "type(y)"
   ]
  },
  {
   "cell_type": "code",
   "execution_count": null,
   "metadata": {
    "id": "PbZuUQN8NIwj",
    "outputId": "4337de5d-b013-44cb-a7f8-8e87f27b6662"
   },
   "outputs": [
    {
     "data": {
      "text/plain": [
       "int"
      ]
     },
     "execution_count": 5,
     "metadata": {},
     "output_type": "execute_result"
    }
   ],
   "source": [
    "# 변수에 새로운 값을 배정 (엎어쓰기)\n",
    "y = 4\n",
    "type(y)"
   ]
  },
  {
   "cell_type": "markdown",
   "metadata": {
    "id": "asnF6cQuNIwj"
   },
   "source": [
    "### 4칙 연산"
   ]
  },
  {
   "cell_type": "code",
   "execution_count": null,
   "metadata": {
    "id": "_-T5ykXaNIwj",
    "outputId": "14a8246c-ca1f-41a1-cabf-04a294e65faa"
   },
   "outputs": [
    {
     "name": "stdout",
     "output_type": "stream",
     "text": [
      "11\n",
      "3\n",
      "28\n",
      "1.75\n"
     ]
    }
   ],
   "source": [
    "print(x+y)\n",
    "print(x-y)\n",
    "print(x*y)\n",
    "print(x/y)"
   ]
  },
  {
   "cell_type": "code",
   "execution_count": null,
   "metadata": {
    "id": "OQte7W8JNIwk",
    "outputId": "bc844d67-5df4-4e41-dc51-52e2ce5ee997"
   },
   "outputs": [
    {
     "name": "stdout",
     "output_type": "stream",
     "text": [
      "1\n",
      "3\n"
     ]
    }
   ],
   "source": [
    "# 몫과 나머지 구하기\n",
    "print(x//y)\n",
    "print(x%y)"
   ]
  },
  {
   "cell_type": "code",
   "execution_count": null,
   "metadata": {
    "id": "JMdA9x4dNIwk",
    "outputId": "a36983bf-f114-42f1-f068-27759b7bc8be"
   },
   "outputs": [
    {
     "name": "stdout",
     "output_type": "stream",
     "text": [
      "2401\n"
     ]
    }
   ],
   "source": [
    "# 승수 (power)\n",
    "print(x**y)  "
   ]
  },
  {
   "cell_type": "code",
   "execution_count": null,
   "metadata": {
    "id": "QIzFJnu9NIwk",
    "outputId": "0505114b-967e-4001-ed85-38e229fd599e"
   },
   "outputs": [
    {
     "data": {
      "text/plain": [
       "123000.0"
      ]
     },
     "execution_count": 9,
     "metadata": {},
     "output_type": "execute_result"
    }
   ],
   "source": [
    "# 10의 지수승 표시 (exponential)\n",
    "z = 1.23e5\n",
    "z"
   ]
  },
  {
   "cell_type": "code",
   "execution_count": null,
   "metadata": {
    "id": "JAirnrTqNIwk",
    "outputId": "00465434-906b-4e2b-dea1-da0888ced42d"
   },
   "outputs": [
    {
     "data": {
      "text/plain": [
       "0.0123"
      ]
     },
     "execution_count": 10,
     "metadata": {},
     "output_type": "execute_result"
    }
   ],
   "source": [
    "z = 1.23E-2 # e, E는 동일하게 사용된다\n",
    "z"
   ]
  },
  {
   "cell_type": "markdown",
   "metadata": {
    "id": "bw_AbMovNIwk"
   },
   "source": [
    "## 문자열"
   ]
  },
  {
   "cell_type": "code",
   "execution_count": 1,
   "metadata": {
    "colab": {
     "base_uri": "https://localhost:8080/"
    },
    "id": "xaxF7s5ufMpr",
    "outputId": "eab030e1-8529-4d77-b60f-515ff0d4b997",
    "scrolled": false,
    "executionInfo": {
     "status": "ok",
     "timestamp": 1679101632906,
     "user_tz": -540,
     "elapsed": 6,
     "user": {
      "displayName": "정다운",
      "userId": "00468637055613396731"
     }
    }
   },
   "outputs": [
    {
     "output_type": "stream",
     "name": "stdout",
     "text": [
      "문자열 출력하기\n",
      "따옴표는 \"혼용\"이 가능합니다\n",
      "본인의 '취향대로' 사용하세요\n"
     ]
    }
   ],
   "source": [
    "print(\"문자열 출력하기\")\n",
    "print('따옴표는 \"혼용\"이 가능합니다')\n",
    "print(\"본인의 '취향대로' 사용하세요\")"
   ]
  },
  {
   "cell_type": "code",
   "execution_count": null,
   "metadata": {
    "id": "hOoJiVa6NIwk",
    "outputId": "f4d1d063-3967-4eab-ef7c-c03fa4d5011e"
   },
   "outputs": [
    {
     "name": "stdout",
     "output_type": "stream",
     "text": [
      "특수 기호를 출력할 때는 \" 이렇게 백 슬래시를 사용하세요\n"
     ]
    }
   ],
   "source": [
    "print(\"특수 기호를 출력할 때는 \\\" 이렇게 백 슬래시를 사용하세요\")"
   ]
  },
  {
   "cell_type": "code",
   "execution_count": null,
   "metadata": {
    "id": "LaopJiXZNIwk",
    "outputId": "832baaaa-b648-4a3c-e318-32e368be50e1"
   },
   "outputs": [
    {
     "name": "stdout",
     "output_type": "stream",
     "text": [
      "새로운 줄(new line)을 출력하려면 \n",
      " 백 슬래시를 사용하세요\n"
     ]
    }
   ],
   "source": [
    "print(\"새로운 줄(new line)을 출력하려면 \\n 백 슬래시를 사용하세요\")"
   ]
  },
  {
   "cell_type": "code",
   "execution_count": null,
   "metadata": {
    "id": "dDFyJoz3NIwl",
    "outputId": "10eaa008-122a-44d5-eece-ddb481da021f"
   },
   "outputs": [
    {
     "name": "stdout",
     "output_type": "stream",
     "text": [
      "임의의 문자열을..붙여서 새로운 문자열로 만든다\n"
     ]
    }
   ],
   "source": [
    "x = \"임의의 문자열을..\"\n",
    "y = \"붙여서 새로운 문자열로 만든다\"\n",
    "print(x + y)"
   ]
  },
  {
   "cell_type": "code",
   "execution_count": null,
   "metadata": {
    "id": "nDFGzOauNIwl",
    "outputId": "845cdb81-4f7d-42ce-aa32-e0a57771aae1"
   },
   "outputs": [
    {
     "data": {
      "text/plain": [
       "'임의의 문자열을..임의의 문자열을..임의의 문자열을..'"
      ]
     },
     "execution_count": 15,
     "metadata": {},
     "output_type": "execute_result"
    }
   ],
   "source": [
    "x * 3"
   ]
  },
  {
   "cell_type": "code",
   "execution_count": null,
   "metadata": {
    "id": "NvL-Ms04NIwl",
    "outputId": "80d618b5-57f1-4e45-9fe9-3e4cf5478e4f"
   },
   "outputs": [
    {
     "data": {
      "text/plain": [
       "10"
      ]
     },
     "execution_count": 16,
     "metadata": {},
     "output_type": "execute_result"
    }
   ],
   "source": [
    "# 문자열의 길이 보기 (length)\n",
    "len(x)"
   ]
  },
  {
   "cell_type": "code",
   "execution_count": null,
   "metadata": {
    "id": "Isg-4cltNIwl",
    "outputId": "3a1a0fc6-7258-4217-ef6e-613a15198c8e"
   },
   "outputs": [
    {
     "data": {
      "text/plain": [
       "'자'"
      ]
     },
     "execution_count": 17,
     "metadata": {},
     "output_type": "execute_result"
    }
   ],
   "source": [
    "# 특정 위치의 문자 보기 (indexing)\n",
    "x[5]"
   ]
  },
  {
   "cell_type": "code",
   "execution_count": null,
   "metadata": {
    "id": "5VygbzUFNIwl",
    "outputId": "1afda305-078c-4233-bf85-4463d69d3a7a"
   },
   "outputs": [
    {
     "data": {
      "text/plain": [
       "'의 문자'"
      ]
     },
     "execution_count": 18,
     "metadata": {},
     "output_type": "execute_result"
    }
   ],
   "source": [
    "# 일부분만 보기 (slicing)\n",
    "x[2:6] # 이상 ~ 미만"
   ]
  },
  {
   "cell_type": "code",
   "execution_count": null,
   "metadata": {
    "id": "zFvSenwLNIwl",
    "outputId": "99bdf2fe-f135-46fb-b86c-506171dbae70"
   },
   "outputs": [
    {
     "data": {
      "text/plain": [
       "'열을.'"
      ]
     },
     "execution_count": 19,
     "metadata": {},
     "output_type": "execute_result"
    }
   ],
   "source": [
    "x[6:9] # 7번째 ~9번째까지"
   ]
  },
  {
   "cell_type": "code",
   "execution_count": null,
   "metadata": {
    "id": "Qvk8Dc_2NIwl",
    "outputId": "da2c603e-1660-4b0e-e9ce-1d8375f0d9d7"
   },
   "outputs": [
    {
     "data": {
      "text/plain": [
       "'.'"
      ]
     },
     "execution_count": 20,
     "metadata": {},
     "output_type": "execute_result"
    }
   ],
   "source": [
    "# 뒤에서부터 카운트\n",
    "x[-1]"
   ]
  },
  {
   "cell_type": "code",
   "execution_count": null,
   "metadata": {
    "id": "Xy9FgCVuNIwl",
    "outputId": "3c4aeecc-ee7a-4345-f891-a98dd62ecfa2"
   },
   "outputs": [
    {
     "data": {
      "text/plain": [
       "'임의의 문자열을..'"
      ]
     },
     "execution_count": 21,
     "metadata": {},
     "output_type": "execute_result"
    }
   ],
   "source": [
    "x"
   ]
  },
  {
   "cell_type": "code",
   "execution_count": null,
   "metadata": {
    "id": "AVA6TraCNIwl",
    "outputId": "811cc6ce-08f6-4a78-8f83-637baf8d44ba"
   },
   "outputs": [
    {
     "data": {
      "text/plain": [
       "'의 문자열'"
      ]
     },
     "execution_count": 22,
     "metadata": {},
     "output_type": "execute_result"
    }
   ],
   "source": [
    "x[2:-3]"
   ]
  },
  {
   "cell_type": "markdown",
   "metadata": {
    "id": "8sMlkFi5NIwl"
   },
   "source": [
    "### 문자열 조작, split과 join\n",
    "- 문자열을 공백, \"/\", \",\" 등을 기준으로 나누거나 합친다\n",
    "- 나누어진 항목은 리스트(list)에 저장된다 (리스트는 여러 데이터를 묶은 것)"
   ]
  },
  {
   "cell_type": "code",
   "execution_count": null,
   "metadata": {
    "id": "qLZewK77NIwm",
    "outputId": "659a134c-987a-4c6d-d392-6550e7ce2a96"
   },
   "outputs": [
    {
     "name": "stdout",
     "output_type": "stream",
     "text": [
      "임의의 문자열을..\n"
     ]
    },
    {
     "data": {
      "text/plain": [
       "['임의의', '문자열을..']"
      ]
     },
     "execution_count": 23,
     "metadata": {},
     "output_type": "execute_result"
    }
   ],
   "source": [
    "# 공백 기준으로 나눈 리스트를 얻는다\n",
    "print(x)\n",
    "x.split()"
   ]
  },
  {
   "cell_type": "code",
   "execution_count": null,
   "metadata": {
    "id": "WtwvmVJsNIwm",
    "outputId": "8db0c3be-7797-4383-a189-13d44fddeaf1"
   },
   "outputs": [
    {
     "data": {
      "text/plain": [
       "['12', '31', '2030']"
      ]
     },
     "execution_count": 24,
     "metadata": {},
     "output_type": "execute_result"
    }
   ],
   "source": [
    "# \"/\"를 기준으로 나눈다\n",
    "y = '12/31/2030'\n",
    "z = y.split('/')\n",
    "z"
   ]
  },
  {
   "cell_type": "code",
   "execution_count": null,
   "metadata": {
    "id": "pr3EYRgpNIwm",
    "outputId": "4735c32d-dc36-4d2f-c7a0-30637ce0e529"
   },
   "outputs": [
    {
     "data": {
      "text/plain": [
       "'2030'"
      ]
     },
     "execution_count": 25,
     "metadata": {},
     "output_type": "execute_result"
    }
   ],
   "source": [
    "# 리스트의 인덱싱\n",
    "z[2]"
   ]
  },
  {
   "cell_type": "code",
   "execution_count": null,
   "metadata": {
    "id": "3n-AjqCmNIwm",
    "outputId": "18c71bc5-8e91-430e-be51-e57fe177d5b6"
   },
   "outputs": [
    {
     "data": {
      "text/plain": [
       "'12,31,2030'"
      ]
     },
     "execution_count": 26,
     "metadata": {},
     "output_type": "execute_result"
    }
   ],
   "source": [
    "# 리스트 내의 문자열들을 합치기\n",
    "\",\".join(z)"
   ]
  },
  {
   "cell_type": "code",
   "execution_count": null,
   "metadata": {
    "id": "X_kTQCE7NIwm",
    "outputId": "fe5930ad-f0e8-4f6f-9f8c-70982e070860"
   },
   "outputs": [
    {
     "data": {
      "text/plain": [
       "'2030-31-12'"
      ]
     },
     "execution_count": 27,
     "metadata": {},
     "output_type": "execute_result"
    }
   ],
   "source": [
    "# 순서를 바꾸어서 합치기\n",
    "\"-\".join((z[2], z[1], z[0]))"
   ]
  },
  {
   "cell_type": "code",
   "execution_count": null,
   "metadata": {
    "id": "-1XsOylPNIwm",
    "outputId": "7effbadd-4b29-4793-88a9-c8860dd8c5b9"
   },
   "outputs": [
    {
     "name": "stdout",
     "output_type": "stream",
     "text": [
      "임의의 문자열을..\n",
      "임의의 긴 문장들을..\n"
     ]
    }
   ],
   "source": [
    "# 문자열 교체 (replace)\n",
    "print(x)\n",
    "print(x.replace(\"문자열\", \"긴 문장들\"))"
   ]
  },
  {
   "cell_type": "markdown",
   "metadata": {
    "id": "h-yyN9k3NIwm"
   },
   "source": [
    "### 문자열에 포맷( format) 사용하기\n",
    "- \"%\" 사용\n",
    "- format() 사용\n",
    "- f\"...\" 사용"
   ]
  },
  {
   "cell_type": "code",
   "execution_count": null,
   "metadata": {
    "id": "s_TthdtWNIwm",
    "outputId": "3d6e4fb4-6a39-4342-ff36-a8376facf202"
   },
   "outputs": [
    {
     "data": {
      "text/plain": [
       "'변수가 10 개 들어 있는 문자열 출력하기'"
      ]
     },
     "execution_count": 29,
     "metadata": {},
     "output_type": "execute_result"
    }
   ],
   "source": [
    "\"변수가 %d 개 들어 있는 문자열 출력하기\" %10"
   ]
  },
  {
   "cell_type": "code",
   "execution_count": null,
   "metadata": {
    "id": "NmT-QVxdNIwm",
    "outputId": "5b1878da-2ef7-4105-f365-5bcd42349909"
   },
   "outputs": [
    {
     "name": "stdout",
     "output_type": "stream",
     "text": [
      "변수가 5 개 들어 있는 문자열 출력하기\n"
     ]
    }
   ],
   "source": [
    "x = 5\n",
    "print(\"변수가 %d 개 들어 있는 문자열 출력하기\" %x)"
   ]
  },
  {
   "cell_type": "code",
   "execution_count": null,
   "metadata": {
    "id": "ckrVB2RENIwn",
    "outputId": "b7503658-12d2-46fe-9d17-2e128cd8e8c3"
   },
   "outputs": [
    {
     "name": "stdout",
     "output_type": "stream",
     "text": [
      "변수가 5 개 들어 있는 문자열 97.50 점 주기\n"
     ]
    }
   ],
   "source": [
    "# 정수와 소수 사용\n",
    "x = 5 \n",
    "y = 97.5\n",
    "print(\"변수가 %d 개 들어 있는 문자열 %0.2f 점 주기\" %(x,y))"
   ]
  },
  {
   "cell_type": "markdown",
   "metadata": {
    "id": "qjSZT23QNIwn"
   },
   "source": [
    "- format 을 사용하는 방법\n"
   ]
  },
  {
   "cell_type": "code",
   "execution_count": null,
   "metadata": {
    "id": "8BchCNA5NIwn",
    "outputId": "dd6118e5-e82e-428d-f37a-a4f8f4bf4fdb"
   },
   "outputs": [
    {
     "name": "stdout",
     "output_type": "stream",
     "text": [
      "변수가 5 개 들어 있는 문자열 97.5점 주기\n"
     ]
    }
   ],
   "source": [
    "# 위치로 지정\n",
    "print(\"변수가 {0} 개 들어 있는 문자열 {1}점 주기\".format(x,y))"
   ]
  },
  {
   "cell_type": "code",
   "execution_count": null,
   "metadata": {
    "id": "74k9wSUqNIwn",
    "outputId": "0f65f396-5bec-4454-e1c9-94d294d1457e"
   },
   "outputs": [
    {
     "name": "stdout",
     "output_type": "stream",
     "text": [
      "변수가 5 개 들어 있는 문자열 97.5점 주기\n"
     ]
    }
   ],
   "source": [
    "# 변수를 지정\n",
    "print(\"변수가 {n2} 개 들어 있는 문자열 {n1}점 주기\".format(n2=x,n1=y))"
   ]
  },
  {
   "cell_type": "markdown",
   "metadata": {
    "id": "tC1qDrxYNIwo"
   },
   "source": [
    "- f\"...\"를 사용하는 방법"
   ]
  },
  {
   "cell_type": "code",
   "execution_count": null,
   "metadata": {
    "id": "UnW9FbU4NIwo",
    "outputId": "434f1852-c01e-4690-e4ac-df57fdaf0405"
   },
   "outputs": [
    {
     "name": "stdout",
     "output_type": "stream",
     "text": [
      "변수가 5 개 들어 있는 문자열 97.5점 주기\n"
     ]
    }
   ],
   "source": [
    "# 간편하게 \"...\" 앞에 f를 붙인다\n",
    "print(f\"변수가 {x} 개 들어 있는 문자열 {y}점 주기\")"
   ]
  },
  {
   "cell_type": "markdown",
   "metadata": {
    "id": "4d72EguANIwo"
   },
   "source": [
    "### 소숫점 포매팅\n",
    "- \":\"를 사용"
   ]
  },
  {
   "cell_type": "code",
   "execution_count": null,
   "metadata": {
    "id": "tA9he2X4NIwo",
    "outputId": "963322a4-4b8e-4234-fd13-34b0783349c3"
   },
   "outputs": [
    {
     "data": {
      "text/plain": [
       "'3.141592'"
      ]
     },
     "execution_count": 35,
     "metadata": {},
     "output_type": "execute_result"
    }
   ],
   "source": [
    "phi = 3.141592\n",
    "f\"{phi}\""
   ]
  },
  {
   "cell_type": "code",
   "execution_count": null,
   "metadata": {
    "id": "xqAlcslENIwo",
    "outputId": "3d658295-b678-4ad1-e9e9-c171084e414b"
   },
   "outputs": [
    {
     "name": "stdout",
     "output_type": "stream",
     "text": [
      "3.141592\n",
      "3.1416\n",
      "3.14\n"
     ]
    }
   ],
   "source": [
    "print(f\"{phi}\")\n",
    "print(f\"{phi:0.4f}\")\n",
    "print(f\"{phi:0.2f}\")"
   ]
  },
  {
   "cell_type": "markdown",
   "metadata": {
    "id": "fex7Uq1hNIwo"
   },
   "source": [
    "## 불리언\n",
    "- 참과 거짓을 True, False로 표현\n",
    "- 대소문자를 구분함"
   ]
  },
  {
   "cell_type": "code",
   "execution_count": null,
   "metadata": {
    "id": "li-KXSyVfMpv",
    "outputId": "83d20d0b-583f-4813-d36a-992fb6925c94"
   },
   "outputs": [
    {
     "data": {
      "text/plain": [
       "False"
      ]
     },
     "execution_count": 37,
     "metadata": {},
     "output_type": "execute_result"
    }
   ],
   "source": [
    "a = True\n",
    "b = False\n",
    "a & b"
   ]
  },
  {
   "cell_type": "code",
   "execution_count": null,
   "metadata": {
    "id": "GE3x1WFTNIwo",
    "outputId": "50ff253b-2819-4496-df64-61ae69ece87c"
   },
   "outputs": [
    {
     "data": {
      "text/plain": [
       "True"
      ]
     },
     "execution_count": 38,
     "metadata": {},
     "output_type": "execute_result"
    }
   ],
   "source": [
    "a | b"
   ]
  },
  {
   "cell_type": "markdown",
   "metadata": {
    "id": "xhIRc4ZFNIwo"
   },
   "source": [
    "- \">\", \"<\", \"==\" 등 조건문을 사용하여 불리언 값을 얻을 수 있다"
   ]
  },
  {
   "cell_type": "code",
   "execution_count": null,
   "metadata": {
    "id": "cSwEpXOKNIwo",
    "outputId": "455457d2-31a6-48ee-81d6-f55aaeb5cce9"
   },
   "outputs": [
    {
     "data": {
      "text/plain": [
       "False"
      ]
     },
     "execution_count": 39,
     "metadata": {},
     "output_type": "execute_result"
    }
   ],
   "source": [
    "x = 3\n",
    "x < 1"
   ]
  },
  {
   "cell_type": "code",
   "execution_count": null,
   "metadata": {
    "id": "vKTnVNePNIwo",
    "outputId": "3a13f010-0a8c-4645-d080-dc6effc428f3"
   },
   "outputs": [
    {
     "data": {
      "text/plain": [
       "True"
      ]
     },
     "execution_count": 40,
     "metadata": {},
     "output_type": "execute_result"
    }
   ],
   "source": [
    "x > 1"
   ]
  },
  {
   "cell_type": "code",
   "execution_count": null,
   "metadata": {
    "id": "SQuynDSnNIwo",
    "outputId": "db38abb3-c809-48ea-f7a2-20b42538bf90"
   },
   "outputs": [
    {
     "data": {
      "text/plain": [
       "True"
      ]
     },
     "execution_count": 41,
     "metadata": {},
     "output_type": "execute_result"
    }
   ],
   "source": [
    "# 어떤 값이 같은지를 보는 조건문에는 \"==\"를 사용한다\n",
    "x == 3"
   ]
  },
  {
   "cell_type": "markdown",
   "metadata": {
    "id": "37YL4YqeNIwo"
   },
   "source": [
    "### 불리언의 연산\n",
    "- 불리언 변수가 연산에 사용되면 True는 1로, False는 0으로 취급된다"
   ]
  },
  {
   "cell_type": "code",
   "execution_count": null,
   "metadata": {
    "id": "8hYf20fffMpz",
    "outputId": "8f84af13-8047-4b37-e683-0095f9dd4b0c"
   },
   "outputs": [
    {
     "name": "stdout",
     "output_type": "stream",
     "text": [
      "True\n",
      "False\n",
      "4\n"
     ]
    }
   ],
   "source": [
    "print(a)\n",
    "print(b)\n",
    "print(a+b+3)"
   ]
  },
  {
   "cell_type": "code",
   "execution_count": null,
   "metadata": {
    "id": "WkZXtkAzfMp2",
    "outputId": "e6bba6f4-78e6-464e-ed0f-1ee8c5a93eaa"
   },
   "outputs": [
    {
     "data": {
      "text/plain": [
       "1"
      ]
     },
     "execution_count": 43,
     "metadata": {},
     "output_type": "execute_result"
    }
   ],
   "source": [
    "a*1"
   ]
  },
  {
   "cell_type": "code",
   "execution_count": null,
   "metadata": {
    "id": "poQCAsxHNIwp",
    "outputId": "e5367f47-66fb-4cf0-bf7d-6fc9c1d33870"
   },
   "outputs": [
    {
     "data": {
      "text/plain": [
       "0"
      ]
     },
     "execution_count": 44,
     "metadata": {},
     "output_type": "execute_result"
    }
   ],
   "source": [
    "b*1"
   ]
  },
  {
   "cell_type": "code",
   "execution_count": null,
   "metadata": {
    "id": "9jgUI6fXNIwp",
    "outputId": "59c49c52-6a16-41ea-c712-a91f1f07cca9"
   },
   "outputs": [
    {
     "data": {
      "text/plain": [
       "False"
      ]
     },
     "execution_count": 45,
     "metadata": {},
     "output_type": "execute_result"
    }
   ],
   "source": [
    "a = bool(0)\n",
    "a"
   ]
  },
  {
   "cell_type": "markdown",
   "metadata": {
    "id": "SR1EuTvjfMp7"
   },
   "source": [
    "# 데이터 묶음\n",
    " - 단 변수들을 여러개 묶어 처리하는 방법\n",
    " - 리스트(list), 배열(array), 튜플(tuple), 사전(dictionary)"
   ]
  },
  {
   "cell_type": "markdown",
   "metadata": {
    "id": "vgNtO3VCNIwp"
   },
   "source": [
    "## 리스트\n",
    " - 파이썬에서 가장 널리 사용되는 데이터 조작용 \"통\"\n",
    " - 리스트를 구성하는 각 항목의 데이터 타입은 서로 달라도 된다"
   ]
  },
  {
   "cell_type": "markdown",
   "metadata": {
    "id": "JtQBATs1NIwp"
   },
   "source": [
    "### 리스트 생성\n",
    " - 리스트를 만들려면 대괄호 \"[ ]\" 를 사용하고 각 항목을 ','로 구분한다\n",
    " - list() 함수로도 만들 수 있다"
   ]
  },
  {
   "cell_type": "code",
   "execution_count": null,
   "metadata": {
    "id": "vfmktw7gfMp8",
    "outputId": "9d702bf1-2d24-4712-84ec-8f7e8424762c"
   },
   "outputs": [
    {
     "data": {
      "text/plain": [
       "[1, 2, 3]"
      ]
     },
     "execution_count": 46,
     "metadata": {},
     "output_type": "execute_result"
    }
   ],
   "source": [
    "x = [1,2,3] ; x"
   ]
  },
  {
   "cell_type": "code",
   "execution_count": null,
   "metadata": {
    "id": "IOzqxcB7NIwp",
    "outputId": "9dc642a7-df12-45a0-8af5-7abd87fdd527"
   },
   "outputs": [
    {
     "data": {
      "text/plain": [
       "list"
      ]
     },
     "execution_count": 47,
     "metadata": {},
     "output_type": "execute_result"
    }
   ],
   "source": [
    "type(x)"
   ]
  },
  {
   "cell_type": "code",
   "execution_count": null,
   "metadata": {
    "id": "OvHUbsCPNIwp",
    "outputId": "95002568-6331-4f2e-8568-3a57ff6a59ce"
   },
   "outputs": [
    {
     "data": {
      "text/plain": [
       "[10, 20, 30]"
      ]
     },
     "execution_count": 48,
     "metadata": {},
     "output_type": "execute_result"
    }
   ],
   "source": [
    "x = list([10,20,30]) ; x"
   ]
  },
  {
   "cell_type": "code",
   "execution_count": null,
   "metadata": {
    "id": "54v-f8W8fMqD",
    "outputId": "b52ca47c-248f-4829-c033-f5af94893d0b"
   },
   "outputs": [
    {
     "data": {
      "text/plain": [
       "3"
      ]
     },
     "execution_count": 49,
     "metadata": {},
     "output_type": "execute_result"
    }
   ],
   "source": [
    "# 리스트 길이 (항목의 갯수)\n",
    "len(x)"
   ]
  },
  {
   "cell_type": "markdown",
   "metadata": {
    "id": "kBwkkRuPNIwp"
   },
   "source": [
    "### 인덱싱\n",
    "- 리스트에서 특정 위치의 항목 값을 얻는다\n",
    "- 위치 번호는 '1'이 아니라 '0'부터 시작한다"
   ]
  },
  {
   "cell_type": "code",
   "execution_count": null,
   "metadata": {
    "id": "NCikFr1afMqG",
    "outputId": "bd91297a-d9b2-4173-9ff9-deb51da01bf5"
   },
   "outputs": [
    {
     "data": {
      "text/plain": [
       "20"
      ]
     },
     "execution_count": 50,
     "metadata": {},
     "output_type": "execute_result"
    }
   ],
   "source": [
    "x[1]"
   ]
  },
  {
   "cell_type": "code",
   "execution_count": null,
   "metadata": {
    "id": "pIgg8MmlfMqJ",
    "outputId": "5d71e0f9-9462-4cd0-f2b5-a083e26ed07d",
    "scrolled": true
   },
   "outputs": [
    {
     "data": {
      "text/plain": [
       "[10, 20, 100]"
      ]
     },
     "execution_count": 51,
     "metadata": {},
     "output_type": "execute_result"
    }
   ],
   "source": [
    "# 인덱싱을 이용한 항목 값의 변경 (assign)\n",
    "x[2]=100 ; x"
   ]
  },
  {
   "cell_type": "markdown",
   "metadata": {
    "id": "MJfBiiO8NIwp"
   },
   "source": [
    "### 슬라이싱\n",
    "- 어떤 범위의 항목을 얻는다"
   ]
  },
  {
   "cell_type": "code",
   "execution_count": null,
   "metadata": {
    "id": "PZNFeB9hfMqN",
    "outputId": "3c15b21b-5c03-4a17-83f7-d3c805cac456",
    "scrolled": true
   },
   "outputs": [
    {
     "data": {
      "text/plain": [
       "[2, 3]"
      ]
     },
     "execution_count": 52,
     "metadata": {},
     "output_type": "execute_result"
    }
   ],
   "source": [
    "x = [1,2,3,5,100]\n",
    "\n",
    "# 슬라이싱으로 범위를 선택한다 (뒷쪽 경계는 포함하지 않음)\n",
    "x[1:3]"
   ]
  },
  {
   "cell_type": "code",
   "execution_count": null,
   "metadata": {
    "id": "CCZqGacyfMqR",
    "outputId": "2b8132ca-9cc8-4e38-ed45-3a1e8d93c8ca"
   },
   "outputs": [
    {
     "data": {
      "text/plain": [
       "5"
      ]
     },
     "execution_count": 53,
     "metadata": {},
     "output_type": "execute_result"
    }
   ],
   "source": [
    "# 뒤에서부터 인덱싱할 때는 '-' 를 사용\n",
    "x[-2]"
   ]
  },
  {
   "cell_type": "code",
   "execution_count": null,
   "metadata": {
    "id": "PJOF9IuZfMqZ",
    "outputId": "b8cea724-8db4-49da-8716-c2fd4258f6d4"
   },
   "outputs": [
    {
     "data": {
      "text/plain": [
       "[1, 2, 3, 5]"
      ]
     },
     "execution_count": 54,
     "metadata": {},
     "output_type": "execute_result"
    }
   ],
   "source": [
    "x[0:4]"
   ]
  },
  {
   "cell_type": "markdown",
   "metadata": {
    "id": "MXFrTfu7NIwq"
   },
   "source": [
    "### 특정 값이 있는 항목의 위치(index) 얻기\n",
    "- index() 사용"
   ]
  },
  {
   "cell_type": "code",
   "execution_count": null,
   "metadata": {
    "id": "U1kBkXoENIwq",
    "outputId": "9992cbfd-22f9-4bb0-f187-a652f38fd8fc"
   },
   "outputs": [
    {
     "data": {
      "text/plain": [
       "[1, 2, 3, 5, 100]"
      ]
     },
     "execution_count": 55,
     "metadata": {},
     "output_type": "execute_result"
    }
   ],
   "source": [
    "x"
   ]
  },
  {
   "cell_type": "code",
   "execution_count": null,
   "metadata": {
    "id": "S8rpS8UUNIwq",
    "outputId": "d0393792-f521-420a-f38b-badb0bc71079"
   },
   "outputs": [
    {
     "data": {
      "text/plain": [
       "4"
      ]
     },
     "execution_count": 56,
     "metadata": {},
     "output_type": "execute_result"
    }
   ],
   "source": [
    "x.index(100)"
   ]
  },
  {
   "cell_type": "markdown",
   "metadata": {
    "id": "Mxhqfr6BNIwq"
   },
   "source": [
    "### 항목 추가 및 삭제: append(), del()"
   ]
  },
  {
   "cell_type": "code",
   "execution_count": null,
   "metadata": {
    "id": "XpSrOjU2fMqe",
    "outputId": "682d1a04-f04c-4f7f-a8ee-a3e44f7765c3"
   },
   "outputs": [
    {
     "name": "stdout",
     "output_type": "stream",
     "text": [
      "[1, 2, 3, 5, 100]\n"
     ]
    },
    {
     "data": {
      "text/plain": [
       "[1, 2, 3, 5, 100, 'park']"
      ]
     },
     "execution_count": 57,
     "metadata": {},
     "output_type": "execute_result"
    }
   ],
   "source": [
    "print(x)\n",
    "x.append('park') # 맨 뒤에 추가된다\n",
    "x"
   ]
  },
  {
   "cell_type": "code",
   "execution_count": null,
   "metadata": {
    "id": "2fLgLRkHNIwq",
    "outputId": "39ffa4d4-6d3a-4500-b475-bf4670e09035"
   },
   "outputs": [
    {
     "data": {
      "text/plain": [
       "[1, 2, 5, 100, 'park']"
      ]
     },
     "execution_count": 58,
     "metadata": {},
     "output_type": "execute_result"
    }
   ],
   "source": [
    "# 특정 위치의 항목을 제거 (복구가 안되므로 주의)\n",
    "del x[2]\n",
    "x"
   ]
  },
  {
   "cell_type": "code",
   "execution_count": null,
   "metadata": {
    "id": "bNnvBjilNIwq",
    "outputId": "766c7ae2-22f2-4eed-d2b3-64c957511019"
   },
   "outputs": [
    {
     "data": {
      "text/plain": [
       "1"
      ]
     },
     "execution_count": 59,
     "metadata": {},
     "output_type": "execute_result"
    }
   ],
   "source": [
    "# 특정 항목의 갯수를 센다 (count)\n",
    "x.count('park')"
   ]
  },
  {
   "cell_type": "code",
   "execution_count": null,
   "metadata": {
    "id": "etjT2kqwNIwq",
    "outputId": "9ad6c643-f590-4e6f-beee-67651ad7d3cc"
   },
   "outputs": [
    {
     "data": {
      "text/plain": [
       "2"
      ]
     },
     "execution_count": 60,
     "metadata": {},
     "output_type": "execute_result"
    }
   ],
   "source": [
    "x.append('park')\n",
    "x.count('park')"
   ]
  },
  {
   "cell_type": "code",
   "execution_count": null,
   "metadata": {
    "id": "P3BQ6ZPGNIwq",
    "outputId": "0b86f6a0-add8-4f01-8453-8f38864a10db"
   },
   "outputs": [
    {
     "data": {
      "text/plain": [
       "[1, 2, 5, 100, 'park', 'park']"
      ]
     },
     "execution_count": 61,
     "metadata": {},
     "output_type": "execute_result"
    }
   ],
   "source": [
    "x"
   ]
  },
  {
   "cell_type": "markdown",
   "metadata": {
    "id": "4TB-mDU-NIwq"
   },
   "source": [
    "### 리스트 정렬, sorted\n",
    "- 숫자 또는 알파벳순으로 정렬한다"
   ]
  },
  {
   "cell_type": "code",
   "execution_count": null,
   "metadata": {
    "id": "4bQEDmQTNIwq",
    "outputId": "a6db4a07-e506-4550-825d-1427c5282931"
   },
   "outputs": [
    {
     "data": {
      "text/plain": [
       "['kim', 'lee', 'park']"
      ]
     },
     "execution_count": 62,
     "metadata": {},
     "output_type": "execute_result"
    }
   ],
   "source": [
    "x = [\"park\", \"kim\", \"lee\"]\n",
    "sorted(x)"
   ]
  },
  {
   "cell_type": "code",
   "execution_count": null,
   "metadata": {
    "id": "bRIbn0jgNIwq",
    "outputId": "a2dbabe9-5c2f-4d4f-8c21-2cad534c29c8"
   },
   "outputs": [
    {
     "data": {
      "text/plain": [
       "[1, 2, 3, 4, 5, 6, 7, 8]"
      ]
     },
     "execution_count": 63,
     "metadata": {},
     "output_type": "execute_result"
    }
   ],
   "source": [
    "x = [5,3,6,7,8,2,4,1]\n",
    "sorted(x)"
   ]
  },
  {
   "cell_type": "code",
   "execution_count": null,
   "metadata": {
    "id": "aa_4tT8QNIwq",
    "outputId": "34f49d40-c42b-4356-8436-950dad32aa3b"
   },
   "outputs": [
    {
     "data": {
      "text/plain": [
       "[5, 3, 6, 7, 8, 2, 4, 1]"
      ]
     },
     "execution_count": 64,
     "metadata": {},
     "output_type": "execute_result"
    }
   ],
   "source": [
    "# 원본 x는 바뀌지 않고 그대로 있다\n",
    "x"
   ]
  },
  {
   "cell_type": "code",
   "execution_count": null,
   "metadata": {
    "id": "-DsKJjUPNIwr",
    "outputId": "75d03398-7b16-45aa-c519-93e80718461b"
   },
   "outputs": [
    {
     "data": {
      "text/plain": [
       "[1, 4, 2, 8, 7, 6, 3, 5]"
      ]
     },
     "execution_count": 65,
     "metadata": {},
     "output_type": "execute_result"
    }
   ],
   "source": [
    "# 순서 뒤집기\n",
    "x.reverse()\n",
    "x"
   ]
  },
  {
   "cell_type": "markdown",
   "metadata": {
    "id": "R8n9Y2msNIwr"
   },
   "source": [
    "### 리스트 복제\n",
    "- 리스트 전체를 반복 복제 하려면 \"*\"를 사용한다"
   ]
  },
  {
   "cell_type": "code",
   "execution_count": null,
   "metadata": {
    "id": "aJDVIfuifMqA",
    "outputId": "afdee7bc-89cc-4c77-a5ff-de85d4879877"
   },
   "outputs": [
    {
     "data": {
      "text/plain": [
       "[1, 2, 3, 'kim', 1, 2, 3, 'kim', 1, 2, 3, 'kim']"
      ]
     },
     "execution_count": 66,
     "metadata": {},
     "output_type": "execute_result"
    }
   ],
   "source": [
    "x = [1,2,3,\"kim\"]\n",
    "x*3"
   ]
  },
  {
   "cell_type": "code",
   "execution_count": null,
   "metadata": {
    "id": "ZF2AZPCGNIwr",
    "outputId": "2df65fc7-dfc1-4d93-99b6-ce595bbb714e"
   },
   "outputs": [
    {
     "data": {
      "text/plain": [
       "[1, 1, 1, 1, 1, 1, 1, 1, 1, 1]"
      ]
     },
     "execution_count": 67,
     "metadata": {},
     "output_type": "execute_result"
    }
   ],
   "source": [
    "x = [1]\n",
    "x*10"
   ]
  },
  {
   "cell_type": "markdown",
   "metadata": {
    "id": "v_cZd_gQfMqh"
   },
   "source": [
    "## 튜플 (tuple)\n",
    "- 튜플도 리스트처럼 여러 항목을 담을 수 있는 변수\n",
    "- 리스트와 달리 튜플의 내용은 '상수'로 취급되어 값을 바꿀 수 없다\n",
    "- 읽기 전용 리스트인 셈이며, 처리 속도가 빠르다\n",
    "- 튜플을 만들려면 소괄호( )를 사용하여 만들거나 ( )  없이 \",\" 로 구분하여 나열한다"
   ]
  },
  {
   "cell_type": "code",
   "execution_count": null,
   "metadata": {
    "id": "FWh2t30OfMqi",
    "outputId": "07768f3c-c5fc-4107-f609-9ce2d3d29036"
   },
   "outputs": [
    {
     "data": {
      "text/plain": [
       "(1, 2, 3, 4, 5, 'hello')"
      ]
     },
     "execution_count": 68,
     "metadata": {},
     "output_type": "execute_result"
    }
   ],
   "source": [
    "my_tuple = (1, 2, 3)\n",
    "your_tuple = 4, 5,\"hello\"\n",
    "my_tuple + your_tuple"
   ]
  },
  {
   "cell_type": "code",
   "execution_count": null,
   "metadata": {
    "id": "4fKitRN3fMql",
    "outputId": "10e78e46-2a20-4c27-f81d-b1b85fcd0eb3"
   },
   "outputs": [
    {
     "name": "stdout",
     "output_type": "stream",
     "text": [
      "3\n",
      "4\n",
      "12\n"
     ]
    }
   ],
   "source": [
    "a, b, c = 3, 4, 5\n",
    "print(a)\n",
    "print(b)\n",
    "print(a+b+c)"
   ]
  },
  {
   "cell_type": "code",
   "execution_count": null,
   "metadata": {
    "id": "Zoqqk6kaNIwr",
    "outputId": "bf81f200-345a-4d70-b94c-62d0b5e3187e"
   },
   "outputs": [
    {
     "name": "stdout",
     "output_type": "stream",
     "text": [
      "12\n"
     ]
    }
   ],
   "source": [
    "(a, b, c) = (3, 4, 5)\n",
    "print(a+b+c)"
   ]
  },
  {
   "cell_type": "markdown",
   "metadata": {
    "id": "yynomsnffMqr"
   },
   "source": [
    "## 사전 (Dictionaries)\n",
    "- 키-값 조합 형태의 데이터 묶음\n",
    "- 간단한 데이터베이스처럼 사용된다\n",
    "- 항목을 찾을 때 키를 사용한다\n",
    "- 딕셔너리에서 저장된 순서는 의미가 없다\n",
    "- 딕셔너리는 중괄호 {  } 로 만들거나 dict()로 만든다"
   ]
  },
  {
   "cell_type": "code",
   "execution_count": null,
   "metadata": {
    "id": "M9BYH2N3fMqs",
    "outputId": "49be4e1c-dfc0-47e6-8df5-c04ccd187213"
   },
   "outputs": [
    {
     "data": {
      "text/plain": [
       "3"
      ]
     },
     "execution_count": 71,
     "metadata": {},
     "output_type": "execute_result"
    }
   ],
   "source": [
    "student = {'grade': 3,'age': 21,'name': \"kim\"  }\n",
    "student['grade']"
   ]
  },
  {
   "cell_type": "code",
   "execution_count": null,
   "metadata": {
    "id": "knKE289jfMqv",
    "outputId": "f67dbaee-fcff-4724-f600-85ee933b3067",
    "scrolled": true
   },
   "outputs": [
    {
     "name": "stdout",
     "output_type": "stream",
     "text": [
      "dict_keys(['grade', 'age', 'name'])\n",
      "dict_values([3, 21, 'kim'])\n",
      "dict_items([('grade', 3), ('age', 21), ('name', 'kim')])\n"
     ]
    }
   ],
   "source": [
    "print(student.keys())\n",
    "print(student.values())\n",
    "print(student.items()) "
   ]
  },
  {
   "cell_type": "code",
   "execution_count": null,
   "metadata": {
    "id": "ShT8ABivfMqz",
    "outputId": "480ab442-8cb2-4f07-a224-631dcdbb5495"
   },
   "outputs": [
    {
     "data": {
      "text/plain": [
       "{'grade': 3, 'age': 28, 'name': 'kim'}"
      ]
     },
     "execution_count": 73,
     "metadata": {},
     "output_type": "execute_result"
    }
   ],
   "source": [
    "# 내용 변경\n",
    "student['age'] = 28\n",
    "student"
   ]
  },
  {
   "cell_type": "code",
   "execution_count": null,
   "metadata": {
    "id": "jDmHKK7bNIwr",
    "outputId": "23326c9e-b64b-449a-a2f5-0418ba5b9547"
   },
   "outputs": [
    {
     "data": {
      "text/plain": [
       "{'grade': 3, 'age': 28, 'name': 'kim', 'address': 'Seoul'}"
      ]
     },
     "execution_count": 74,
     "metadata": {},
     "output_type": "execute_result"
    }
   ],
   "source": [
    "# 키:값 항목 추가 (없는 키를 사용하면 항목을 새로만든다)\n",
    "student['address'] = 'Seoul'\n",
    "student"
   ]
  },
  {
   "cell_type": "code",
   "execution_count": null,
   "metadata": {
    "id": "-JYNwNQeNIwr",
    "outputId": "b1db8579-2f1e-4ada-e0d4-35ebdebffade"
   },
   "outputs": [
    {
     "data": {
      "text/plain": [
       "{}"
      ]
     },
     "execution_count": 75,
     "metadata": {},
     "output_type": "execute_result"
    }
   ],
   "source": [
    "d = dict()\n",
    "d"
   ]
  },
  {
   "cell_type": "code",
   "execution_count": null,
   "metadata": {
    "id": "l7GJEVB_NIws",
    "outputId": "b7085095-9b2b-4ea2-aea2-fd2c967f7aea"
   },
   "outputs": [
    {
     "data": {
      "text/plain": [
       "{'key1': 10}"
      ]
     },
     "execution_count": 76,
     "metadata": {},
     "output_type": "execute_result"
    }
   ],
   "source": [
    "d[\"key1\"] = 10\n",
    "d"
   ]
  },
  {
   "cell_type": "markdown",
   "metadata": {
    "id": "LLlTnuiANIws"
   },
   "source": [
    "# 프로그램 흐름"
   ]
  },
  {
   "cell_type": "markdown",
   "metadata": {
    "id": "rMT3Mz-WNIws"
   },
   "source": [
    "## if\n",
    "- if 문 다음이 True이면 \":\" 이후 블록을 실행한다\n",
    "- 블록은 들여쓰기가 같은 영역으로 구분한다"
   ]
  },
  {
   "cell_type": "code",
   "execution_count": null,
   "metadata": {
    "id": "VLrsr0ktfMrB",
    "outputId": "a22ddf5d-a7a7-48e5-d45b-db4dc1729a11",
    "scrolled": true
   },
   "outputs": [
    {
     "name": "stdout",
     "output_type": "stream",
     "text": [
      "x > 10\n",
      "if 문 뒤에는 반드시 ':'가 있어야 한다\n",
      "if 문 적용 블록은 들여쓰기로 구분한다\n"
     ]
    }
   ],
   "source": [
    "x = 11\n",
    "if x > 10:\n",
    "    print(\"x > 10\") \n",
    "    print(\"if 문 뒤에는 반드시 ':'가 있어야 한다\")\n",
    "    print(\"if 문 적용 블록은 들여쓰기로 구분한다\")\n",
    "else:\n",
    "    print(\" x <= 10\")"
   ]
  },
  {
   "cell_type": "markdown",
   "metadata": {
    "id": "tMVdlVcUNIws"
   },
   "source": [
    "- else 문은 없어도 된다\n",
    "- elif를 사용하여 다른 조건을 연속하여 검사할 수 있다"
   ]
  },
  {
   "cell_type": "code",
   "execution_count": null,
   "metadata": {
    "id": "-gqgga4WNIws",
    "outputId": "fe3b22a8-1c87-49fc-f18a-82a82d7c0f01"
   },
   "outputs": [
    {
     "name": "stdout",
     "output_type": "stream",
     "text": [
      "평균은 넘는 점수!\n"
     ]
    }
   ],
   "source": [
    "x = 70\n",
    "if x > 90:\n",
    "    print(\"매우 높은 점수!\") \n",
    "elif x > 60:\n",
    "    print(\"평균은 넘는 점수!\") \n",
    "else:\n",
    "    print(\"낮은 점수!\")"
   ]
  },
  {
   "cell_type": "markdown",
   "metadata": {
    "id": "cAtQ1anaNIws"
   },
   "source": [
    "### 조건문에 in 사용"
   ]
  },
  {
   "cell_type": "code",
   "execution_count": null,
   "metadata": {
    "id": "Lpivfn1wNIws",
    "outputId": "b74fa4f2-d93d-4808-a026-89d6697e0657"
   },
   "outputs": [
    {
     "data": {
      "text/plain": [
       "False"
      ]
     },
     "execution_count": 79,
     "metadata": {},
     "output_type": "execute_result"
    }
   ],
   "source": [
    "y = [1,2,3,4]\n",
    "x = 6\n",
    "x in y"
   ]
  },
  {
   "cell_type": "code",
   "execution_count": null,
   "metadata": {
    "id": "af9nu3NLNIws",
    "outputId": "db7880d8-0730-493b-ed39-5ccbe5b6d7ba"
   },
   "outputs": [
    {
     "name": "stdout",
     "output_type": "stream",
     "text": [
      "x가 y에 포함되어 있지 않다\n"
     ]
    }
   ],
   "source": [
    "if x in y:\n",
    "    print(\"x가 y에 포함되어 있다\")\n",
    "else:\n",
    "    print(\"x가 y에 포함되어 있지 않다\")"
   ]
  },
  {
   "cell_type": "markdown",
   "metadata": {
    "id": "iuoCthCfNIws"
   },
   "source": [
    "## for\n",
    "- 특정 조건이 만족되는 동안 \":\" 이후의 블록을 수행\n",
    "- 수행할 블록은 들여쓰기로 구분한다"
   ]
  },
  {
   "cell_type": "code",
   "execution_count": null,
   "metadata": {
    "id": "cHGrCXZeNIws",
    "outputId": "c8fe68bc-307e-4e03-9c83-04dcdcf0629a"
   },
   "outputs": [
    {
     "name": "stdout",
     "output_type": "stream",
     "text": [
      "10\n",
      "20\n",
      "30\n",
      "40\n"
     ]
    }
   ],
   "source": [
    "y = [1,2,3,4]\n",
    "for i in y:\n",
    "    print(i*10)"
   ]
  },
  {
   "cell_type": "markdown",
   "metadata": {
    "id": "K_gCJqBHNIws"
   },
   "source": [
    "### 리스트 내에서 for 사용하기"
   ]
  },
  {
   "cell_type": "code",
   "execution_count": null,
   "metadata": {
    "id": "4vKEtq2yNIws",
    "outputId": "32b9a915-dabe-4451-8c4e-9ff2dd346a62"
   },
   "outputs": [
    {
     "data": {
      "text/plain": [
       "[100, 200, 300, 400]"
      ]
     },
     "execution_count": 82,
     "metadata": {},
     "output_type": "execute_result"
    }
   ],
   "source": [
    "# 새로운 리스트 생성하기\n",
    "y = [1,2,3,4]\n",
    "[i*100 for i in y]"
   ]
  },
  {
   "cell_type": "code",
   "execution_count": null,
   "metadata": {
    "id": "HrvlywoSNIws",
    "outputId": "fd964786-8e2d-4de4-d576-7a6b89f930cf"
   },
   "outputs": [
    {
     "data": {
      "text/plain": [
       "['cat001', 'cat002']"
      ]
     },
     "execution_count": 83,
     "metadata": {},
     "output_type": "execute_result"
    }
   ],
   "source": [
    "# 조건에 맞는 문자열을 찾아서 리스트를 만들기\n",
    "target = ['cat001', 'cat002', 'dog003', 'dog004']\n",
    "match = 'cat'\n",
    "matching = [s for s in target if match in s]\n",
    "matching"
   ]
  },
  {
   "cell_type": "markdown",
   "metadata": {
    "id": "_kjkVxcqNIws"
   },
   "source": [
    "### 특수변수, range\n",
    "- 일정 범위의 정수값을 포함하는 변수를 만들어준다\n",
    "- 날짜의 구간을 지정하는 date_range도 있다"
   ]
  },
  {
   "cell_type": "code",
   "execution_count": null,
   "metadata": {
    "id": "oWqpat80fMq7",
    "outputId": "5617803c-c7ec-40a3-a06f-073204c3c7ae"
   },
   "outputs": [
    {
     "name": "stdout",
     "output_type": "stream",
     "text": [
      "0\n",
      "10\n",
      "20\n",
      "30\n",
      "40\n"
     ]
    }
   ],
   "source": [
    "# 0~4 사이의 정수를 포함 : range(5)\n",
    "x = range(5)\n",
    "for i in x:\n",
    "    print(i*10)"
   ]
  },
  {
   "cell_type": "code",
   "execution_count": null,
   "metadata": {
    "id": "C3ZwTByPNIwt",
    "outputId": "a86dabb1-9fb2-4717-9269-576b5e3c32cd"
   },
   "outputs": [
    {
     "name": "stdout",
     "output_type": "stream",
     "text": [
      "10\n",
      "30\n",
      "50\n",
      "70\n",
      "90\n"
     ]
    }
   ],
   "source": [
    "# 1~11 사이의 정수를 2씩 띄어서 포함\n",
    "# 마지막 값은 \"이하\"가 아니라 \"미만\"으로 처리한다\n",
    "x = range(1,11,2)\n",
    "for i in x: print(i*10)"
   ]
  },
  {
   "cell_type": "code",
   "execution_count": null,
   "metadata": {
    "id": "HnyNqFR2fMq-",
    "outputId": "855d39fb-39f3-41b9-bf2f-9ca5f958ce27",
    "scrolled": true
   },
   "outputs": [
    {
     "data": {
      "text/plain": [
       "[0, 10, 20, 30, 40, 50, 60, 70, 80, 90]"
      ]
     },
     "execution_count": 86,
     "metadata": {},
     "output_type": "execute_result"
    }
   ],
   "source": [
    "# for와 range를 사용하여 리스트 만들기\n",
    "x = [i*10 for i in range(10)] \n",
    "x"
   ]
  },
  {
   "cell_type": "markdown",
   "metadata": {
    "id": "F0Sq2dRYNIwt"
   },
   "source": [
    "### 인덱스와 항목 얻기, enumerate\n",
    "- 리스트 항목의 인덱스 (순서 번호)를 같이 알려준다\n",
    "- enumerate은 두 개의 값을 리턴한다"
   ]
  },
  {
   "cell_type": "code",
   "execution_count": null,
   "metadata": {
    "id": "ApUjgrtANIwt",
    "outputId": "9ec18a01-920f-423b-9b9d-f1dc5b23def3"
   },
   "outputs": [
    {
     "data": {
      "text/plain": [
       "[(0, 'kim'), (1, 'park'), (2, 'lee')]"
      ]
     },
     "execution_count": 87,
     "metadata": {},
     "output_type": "execute_result"
    }
   ],
   "source": [
    "x = [\"kim\", \"park\", \"lee\"]\n",
    "list(enumerate(x))"
   ]
  },
  {
   "cell_type": "code",
   "execution_count": null,
   "metadata": {
    "scrolled": true,
    "id": "6c7M89HiNIwt",
    "outputId": "e9c9f495-6445-40bc-e018-12a884b91c81"
   },
   "outputs": [
    {
     "name": "stdout",
     "output_type": "stream",
     "text": [
      "0 번째 사람 이름은 kim입니다\n",
      "1 번째 사람 이름은 park입니다\n",
      "2 번째 사람 이름은 lee입니다\n"
     ]
    }
   ],
   "source": [
    "for i, name in enumerate(x):\n",
    "    print(f\"{i} 번째 사람 이름은 {name}입니다\")"
   ]
  },
  {
   "cell_type": "markdown",
   "metadata": {
    "id": "etcn-K0lNIwt"
   },
   "source": [
    "## while\n",
    "- 조건이 만족하는 동안 계속 수행"
   ]
  },
  {
   "cell_type": "code",
   "execution_count": null,
   "metadata": {
    "id": "zVYMWHTaNIwt",
    "outputId": "747653ae-cb42-4e90-93ac-bd352f0d4bfb"
   },
   "outputs": [
    {
     "name": "stdout",
     "output_type": "stream",
     "text": [
      "x = 0\n",
      "x = 1\n",
      "x = 2\n",
      "x = 3\n",
      "x = 4\n"
     ]
    }
   ],
   "source": [
    "x = 0\n",
    "while x < 5:\n",
    "    print('x =', x)\n",
    "    x = x+1"
   ]
  },
  {
   "cell_type": "code",
   "execution_count": null,
   "metadata": {
    "id": "0c5jg6nhNIwt",
    "outputId": "bc5c9728-e950-4180-f61e-00005ab25a82"
   },
   "outputs": [
    {
     "name": "stdout",
     "output_type": "stream",
     "text": [
      "x = 0\n",
      "x = 1\n",
      "x = 2\n",
      "x = 3\n",
      "x = 4\n",
      "x = 5\n",
      "Too Big!!\n"
     ]
    }
   ],
   "source": [
    "# 무한 반복 형태로도 사용된다\n",
    "x = 0\n",
    "while True:\n",
    "    print('x =', x)\n",
    "    x = x+1\n",
    "    if x > 5:\n",
    "        print('Too Big!!')\n",
    "        break"
   ]
  },
  {
   "cell_type": "code",
   "execution_count": null,
   "metadata": {
    "id": "sakIFzySNIwt"
   },
   "outputs": [],
   "source": []
  }
 ],
 "metadata": {
  "colab": {
   "collapsed_sections": [
    "v_cZd_gQfMqh",
    "yynomsnffMqr",
    "zd5EnJeQfMrE"
   ],
   "provenance": []
  },
  "kernelspec": {
   "display_name": "Python 3",
   "language": "python",
   "name": "python3"
  },
  "language_info": {
   "codemirror_mode": {
    "name": "ipython",
    "version": 3
   },
   "file_extension": ".py",
   "mimetype": "text/x-python",
   "name": "python",
   "nbconvert_exporter": "python",
   "pygments_lexer": "ipython3",
   "version": "3.7.6"
  },
  "toc": {
   "base_numbering": 1,
   "nav_menu": {},
   "number_sections": false,
   "sideBar": true,
   "skip_h1_title": false,
   "title_cell": "Table of Contents",
   "title_sidebar": "Contents",
   "toc_cell": false,
   "toc_position": {
    "height": "calc(100% - 180px)",
    "left": "10px",
    "top": "150px",
    "width": "224px"
   },
   "toc_section_display": true,
   "toc_window_display": false
  }
 },
 "nbformat": 4,
 "nbformat_minor": 0
}
